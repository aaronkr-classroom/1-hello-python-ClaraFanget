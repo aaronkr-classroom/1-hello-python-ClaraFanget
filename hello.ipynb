{
 "cells": [
  {
   "cell_type": "markdown",
   "id": "875d3a6a",
   "metadata": {},
   "source": [
    "# Hello World \n",
    "\n",
    "## This is Clara\n",
    "\n",
    "###### ML is fun\n",
    "\n",
    "This a paragraph."
   ]
  },
  {
   "cell_type": "markdown",
   "id": "2a439770",
   "metadata": {},
   "source": [
    "Swear to *me*! I'll be _standing_ where l belong. Between you and the peopIe of Gotham. **Bats frighten me**. It's time __my enemies__ shared my [dread](https:google.com).\n",
    "\n",
    " 1. Hero \n",
    " 1. can \n",
    " 1. be \n",
    " \n",
    " - anyone. \n",
    " - Even \n",
    " - a \n",
    " ---\n",
    "\n",
    " * man \n",
    " * knowing \n",
    " * something \n",
    " \n",
    " ---\n",
    " as simple and reassuring as putting a coat around a young boy shoulders to let him know the world hadn't ended.\n",
    "\n",
    " No guns, no killing. I will go back to Gotham and I will fight men Iike this but I will not become an executioner. No guns, no killing. I can't do that as Bruce Wayne... as a man. I'm flesh and blood. I can be ignored, destroyed. But as a symbol, I can be incorruptible, I can be everlasting.\n",
    "\n",
    " No guns, no killing. I'll be standing where l belong. Between you and the peopIe of Gotham. Bats frighten me. It's time my enemies shared my dread."
   ]
  },
  {
   "cell_type": "markdown",
   "id": "e1057827",
   "metadata": {},
   "source": []
  }
 ],
 "metadata": {
  "language_info": {
   "name": "python"
  }
 },
 "nbformat": 4,
 "nbformat_minor": 5
}
